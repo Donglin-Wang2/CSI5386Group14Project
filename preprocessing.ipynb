{
 "cells": [
  {
   "cell_type": "code",
   "execution_count": 6,
   "metadata": {},
   "outputs": [],
   "source": [
    "import random\n",
    "import skimage.io as io\n",
    "import matplotlib.pyplot as plt\n",
    "import os\n",
    "import json\n",
    "import numpy as np\n",
    "from tqdm import tqdm\n",
    "import pandas as pd\n",
    "import tensorflow as tf\n",
    "\n",
    "from tensorflow.keras.preprocessing.image import ImageDataGenerator\n",
    "from tensorflow.keras.preprocessing.text import Tokenizer\n",
    "from tensorflow.keras.preprocessing.sequence import pad_sequences\n",
    "from tensorflow.keras.layers import *\n",
    "from tensorflow.keras import Model\n",
    "from tensorflow.keras.applications.vgg16 import VGG16\n",
    "from tensorflow.keras.preprocessing import image\n",
    "from tensorflow.keras.optimizers import Adam"
   ]
  },
  {
   "cell_type": "code",
   "execution_count": 2,
   "metadata": {},
   "outputs": [],
   "source": [
    "img_size = 224 # inception default which seems to also be smaller than all the images\n",
    "img_input_shape = (img_size, img_size, 3)\n",
    "img_target_size = (img_size, img_size)\n",
    "\n",
    "num_words = 1000\n",
    "pad_size = 20\n",
    "qstn_input_shape = (pad_size, 1)\n",
    "\n",
    "learning_rate = 1e-3\n",
    "batch_size = 64\n",
    "epochs=1000"
   ]
  },
  {
   "cell_type": "code",
   "execution_count": 3,
   "metadata": {},
   "outputs": [
    {
     "output_type": "stream",
     "name": "stderr",
     "text": [
      "100%|██████████| 166882/166882 [00:00<00:00, 711091.67it/s]\n"
     ]
    }
   ],
   "source": [
    "id_tuples = []\n",
    "with open('./VQA/Annotations/v2_mscoco_train2014_annotations.json') as f:\n",
    "    data = json.load(f)\n",
    "    for annotation in data['annotations']:\n",
    "        if annotation['answer_type'] == 'yes/no':\n",
    "            id_tuples.append((annotation['image_id'], annotation['question_id'],  annotation['multiple_choice_answer']))   \n",
    "\n",
    "questions = {}\n",
    "with open('./VQA/Questions/v2_OpenEnded_mscoco_train2014_questions.json') as f:\n",
    "    data = json.load(f)\n",
    "    for question in data['questions']:\n",
    "        questions[question['question_id']] = question['question']\n",
    "        \n",
    "train_data = []\n",
    "for id_tuple in tqdm(id_tuples):\n",
    "    question = questions[id_tuple[1]]\n",
    "    img = './VQA/Images/train2014/COCO_train2014_' + str(id_tuple[0]).zfill(12) + '.jpg'\n",
    "    train_data.append((img, question, id_tuple[-1]))"
   ]
  },
  {
   "cell_type": "code",
   "execution_count": 4,
   "metadata": {},
   "outputs": [
    {
     "output_type": "execute_result",
     "data": {
      "text/plain": [
       "                                               Image  \\\n",
       "0  ./VQA/Images/train2014/COCO_train2014_00000045...   \n",
       "1  ./VQA/Images/train2014/COCO_train2014_00000052...   \n",
       "2  ./VQA/Images/train2014/COCO_train2014_00000039...   \n",
       "3  ./VQA/Images/train2014/COCO_train2014_00000039...   \n",
       "4  ./VQA/Images/train2014/COCO_train2014_00000039...   \n",
       "\n",
       "                                      Question Answer  \n",
       "0  Is this man a professional baseball player?    yes  \n",
       "1                          Is the dog waiting?    yes  \n",
       "2                             Is the sky blue?    yes  \n",
       "3              Is there snow on the mountains?    yes  \n",
       "4                          Is the window open?    yes  "
      ],
      "text/html": "<div>\n<style scoped>\n    .dataframe tbody tr th:only-of-type {\n        vertical-align: middle;\n    }\n\n    .dataframe tbody tr th {\n        vertical-align: top;\n    }\n\n    .dataframe thead th {\n        text-align: right;\n    }\n</style>\n<table border=\"1\" class=\"dataframe\">\n  <thead>\n    <tr style=\"text-align: right;\">\n      <th></th>\n      <th>Image</th>\n      <th>Question</th>\n      <th>Answer</th>\n    </tr>\n  </thead>\n  <tbody>\n    <tr>\n      <th>0</th>\n      <td>./VQA/Images/train2014/COCO_train2014_00000045...</td>\n      <td>Is this man a professional baseball player?</td>\n      <td>yes</td>\n    </tr>\n    <tr>\n      <th>1</th>\n      <td>./VQA/Images/train2014/COCO_train2014_00000052...</td>\n      <td>Is the dog waiting?</td>\n      <td>yes</td>\n    </tr>\n    <tr>\n      <th>2</th>\n      <td>./VQA/Images/train2014/COCO_train2014_00000039...</td>\n      <td>Is the sky blue?</td>\n      <td>yes</td>\n    </tr>\n    <tr>\n      <th>3</th>\n      <td>./VQA/Images/train2014/COCO_train2014_00000039...</td>\n      <td>Is there snow on the mountains?</td>\n      <td>yes</td>\n    </tr>\n    <tr>\n      <th>4</th>\n      <td>./VQA/Images/train2014/COCO_train2014_00000039...</td>\n      <td>Is the window open?</td>\n      <td>yes</td>\n    </tr>\n  </tbody>\n</table>\n</div>"
     },
     "metadata": {},
     "execution_count": 4
    }
   ],
   "source": [
    "train_df = pd.DataFrame(data=train_data, columns=['Image', 'Question', 'Answer'])\n",
    "train_df = train_df[(train_df.Answer == 'yes') | (train_df.Answer == 'no')]\n",
    "train_df.head()"
   ]
  },
  {
   "cell_type": "code",
   "execution_count": 7,
   "metadata": {},
   "outputs": [
    {
     "output_type": "stream",
     "name": "stdout",
     "text": [
      "Found 166878 validated image filenames belonging to 2 classes.\n"
     ]
    }
   ],
   "source": [
    "datagen = ImageDataGenerator(rescale=1./255)\n",
    "\n",
    "train_gen = datagen.flow_from_dataframe(\n",
    "    dataframe=train_df, \n",
    "    directory='.', \n",
    "    x_col='Image', \n",
    "    y_col='Answer',  \n",
    "    target_size=img_target_size,\n",
    "    class_mode='binary',\n",
    "    batch_size=batch_size,\n",
    "    shuffle=False\n",
    ")"
   ]
  },
  {
   "cell_type": "code",
   "execution_count": 25,
   "metadata": {},
   "outputs": [
    {
     "output_type": "stream",
     "name": "stdout",
     "text": [
      "(64,)\n[[[[0.7411765  0.7411765  0.7411765 ]\n   [0.8196079  0.8196079  0.8196079 ]\n   [0.6745098  0.6745098  0.6745098 ]\n   ...\n   [0.2901961  0.2901961  0.2901961 ]\n   [0.18431373 0.18431373 0.18431373]\n   [0.11764707 0.11764707 0.11764707]]\n\n  [[0.22352943 0.22352943 0.22352943]\n   [0.3019608  0.3019608  0.3019608 ]\n   [0.32941177 0.32941177 0.32941177]\n   ...\n   [0.27450982 0.27450982 0.27450982]\n   [0.28627452 0.28627452 0.28627452]\n   [0.1254902  0.1254902  0.1254902 ]]\n\n  [[0.32941177 0.32941177 0.32941177]\n   [0.27058825 0.27058825 0.27058825]\n   [0.38823533 0.38823533 0.38823533]\n   ...\n   [0.23529413 0.23529413 0.23529413]\n   [0.16470589 0.16470589 0.16470589]\n   [0.28235295 0.28235295 0.28235295]]\n\n  ...\n\n  [[0.59607846 0.59607846 0.59607846]\n   [0.50980395 0.50980395 0.50980395]\n   [0.47058827 0.47058827 0.47058827]\n   ...\n   [0.58431375 0.58431375 0.58431375]\n   [0.627451   0.627451   0.627451  ]\n   [0.54509807 0.54509807 0.54509807]]\n\n  [[0.76470596 0.76470596 0.76470596]\n   [0.80392164 0.80392164 0.80392164]\n   [0.7568628  0.7568628  0.7568628 ]\n   ...\n   [0.54901963 0.54901963 0.54901963]\n   [0.6039216  0.6039216  0.6039216 ]\n   [0.6313726  0.6313726  0.6313726 ]]\n\n  [[0.7294118  0.7294118  0.7294118 ]\n   [0.63529414 0.63529414 0.63529414]\n   [0.69803923 0.69803923 0.69803923]\n   ...\n   [0.6431373  0.6431373  0.6431373 ]\n   [0.6117647  0.6117647  0.6117647 ]\n   [0.59607846 0.59607846 0.59607846]]]\n\n\n [[[0.8470589  0.95294124 0.9960785 ]\n   [0.8470589  0.9607844  0.9921569 ]\n   [0.854902   0.9686275  1.        ]\n   ...\n   [0.9960785  0.98823535 1.        ]\n   [0.98823535 0.9803922  0.9843138 ]\n   [1.         0.98823535 0.9921569 ]]\n\n  [[0.8470589  0.95294124 0.9960785 ]\n   [0.8470589  0.9607844  0.9921569 ]\n   [0.8431373  0.9568628  0.98823535]\n   ...\n   [1.         0.9803922  1.        ]\n   [0.9490197  0.9921569  1.        ]\n   [0.90196085 0.9686275  0.9960785 ]]\n\n  [[0.8470589  0.9607844  0.9921569 ]\n   [0.8431373  0.9568628  0.98823535]\n   [0.85098046 0.96470594 0.9960785 ]\n   ...\n   [0.7803922  0.9843138  0.9686275 ]\n   [0.7803922  0.7372549  0.6509804 ]\n   [0.31764707 0.49411768 0.5137255 ]]\n\n  ...\n\n  [[0.21176472 0.31764707 0.11764707]\n   [0.19607845 0.28627452 0.1137255 ]\n   [0.21960786 0.25490198 0.18039216]\n   ...\n   [0.08235294 0.20784315 0.30588236]\n   [0.1254902  0.18431373 0.3137255 ]\n   [0.10588236 0.2392157  0.34509805]]\n\n  [[0.25490198 0.3529412  0.20000002]\n   [0.21960786 0.34117648 0.18039216]\n   [0.21176472 0.2901961  0.09019608]\n   ...\n   [0.10980393 0.15294118 0.2784314 ]\n   [0.08235294 0.19607845 0.3137255 ]\n   [0.10588236 0.19607845 0.32156864]]\n\n  [[0.21960786 0.3803922  0.16078432]\n   [0.21176472 0.3372549  0.1764706 ]\n   [0.18431373 0.30980393 0.1137255 ]\n   ...\n   [0.06666667 0.18431373 0.29411766]\n   [0.09803922 0.1764706  0.30588236]\n   [0.0627451  0.19215688 0.32941177]]]\n\n\n [[[0.13333334 0.13333334 0.14117648]\n   [0.13333334 0.13333334 0.14117648]\n   [0.13333334 0.13333334 0.14117648]\n   ...\n   [0.13333334 0.13333334 0.14117648]\n   [0.13333334 0.13333334 0.14117648]\n   [0.13333334 0.13333334 0.14117648]]\n\n  [[0.13333334 0.13333334 0.14117648]\n   [0.13333334 0.13333334 0.14117648]\n   [0.13333334 0.13333334 0.14117648]\n   ...\n   [0.13333334 0.13333334 0.14117648]\n   [0.13333334 0.13333334 0.14117648]\n   [0.13333334 0.13333334 0.14117648]]\n\n  [[0.13333334 0.13333334 0.14117648]\n   [0.13333334 0.13333334 0.14117648]\n   [0.13333334 0.13333334 0.14117648]\n   ...\n   [0.13333334 0.13333334 0.14117648]\n   [0.13333334 0.13333334 0.14117648]\n   [0.13333334 0.13333334 0.14117648]]\n\n  ...\n\n  [[0.13333334 0.13333334 0.14117648]\n   [0.13333334 0.13333334 0.14117648]\n   [0.13333334 0.13333334 0.14117648]\n   ...\n   [0.13333334 0.13333334 0.14117648]\n   [0.13333334 0.13333334 0.14117648]\n   [0.13333334 0.13333334 0.14117648]]\n\n  [[0.13333334 0.13333334 0.14117648]\n   [0.13333334 0.13333334 0.14117648]\n   [0.13333334 0.13333334 0.14117648]\n   ...\n   [0.13333334 0.13333334 0.14117648]\n   [0.13333334 0.13333334 0.14117648]\n   [0.13333334 0.13333334 0.14117648]]\n\n  [[0.13333334 0.13333334 0.14117648]\n   [0.13333334 0.13333334 0.14117648]\n   [0.13333334 0.13333334 0.14117648]\n   ...\n   [0.13333334 0.13333334 0.14117648]\n   [0.13333334 0.13333334 0.14117648]\n   [0.13333334 0.13333334 0.14117648]]]\n\n\n ...\n\n\n [[[0.42352945 0.43921572 0.38431376]\n   [0.43137258 0.43137258 0.38431376]\n   [0.4431373  0.43529415 0.38823533]\n   ...\n   [0.5137255  0.5411765  0.4784314 ]\n   [0.50980395 0.5294118  0.5019608 ]\n   [0.5137255  0.5254902  0.48235297]]\n\n  [[0.42352945 0.43137258 0.3803922 ]\n   [0.427451   0.427451   0.3803922 ]\n   [0.43529415 0.427451   0.3803922 ]\n   ...\n   [0.5294118  0.5294118  0.48235297]\n   [0.52156866 0.5254902  0.49411768]\n   [0.5137255  0.5254902  0.48235297]]\n\n  [[0.43137258 0.43137258 0.38431376]\n   [0.427451   0.427451   0.3803922 ]\n   [0.41960788 0.41960788 0.37254903]\n   ...\n   [0.5294118  0.53333336 0.5019608 ]\n   [0.52156866 0.53333336 0.4901961 ]\n   [0.5137255  0.5254902  0.48235297]]\n\n  ...\n\n  [[0.43529415 0.31764707 0.35686275]\n   [0.454902   0.3529412  0.39607847]\n   [0.4666667  0.37254903 0.42352945]\n   ...\n   [0.01176471 0.01176471 0.01176471]\n   [0.01176471 0.01176471 0.01176471]\n   [0.01176471 0.01176471 0.01176471]]\n\n  [[0.43921572 0.3137255  0.3647059 ]\n   [0.4431373  0.33333334 0.38823533]\n   [0.48235297 0.37647063 0.43529415]\n   ...\n   [0.00784314 0.00784314 0.00784314]\n   [0.01176471 0.01176471 0.01176471]\n   [0.00784314 0.00784314 0.00784314]]\n\n  [[0.41960788 0.29803923 0.35686275]\n   [0.44705886 0.34117648 0.37647063]\n   [0.45882356 0.36078432 0.38431376]\n   ...\n   [0.01568628 0.01568628 0.01568628]\n   [0.00784314 0.00784314 0.00784314]\n   [0.01176471 0.01176471 0.01176471]]]\n\n\n [[[0.25490198 0.23137257 0.23137257]\n   [0.32156864 0.29803923 0.29803923]\n   [0.3254902  0.3019608  0.3019608 ]\n   ...\n   [0.31764707 0.29803923 0.28627452]\n   [0.32156864 0.3019608  0.2901961 ]\n   [0.3254902  0.3019608  0.3019608 ]]\n\n  [[0.33333334 0.30980393 0.30980393]\n   [0.31764707 0.29411766 0.29411766]\n   [0.3254902  0.3019608  0.3019608 ]\n   ...\n   [0.32156864 0.3019608  0.2901961 ]\n   [0.3254902  0.30588236 0.29411766]\n   [0.32156864 0.29803923 0.29803923]]\n\n  [[0.30980393 0.28627452 0.28627452]\n   [0.3137255  0.2901961  0.2901961 ]\n   [0.32156864 0.29803923 0.29803923]\n   ...\n   [0.32156864 0.29803923 0.29803923]\n   [0.31764707 0.29411766 0.29411766]\n   [0.3254902  0.3019608  0.3019608 ]]\n\n  ...\n\n  [[0.33333334 0.30980393 0.30980393]\n   [0.32941177 0.30588236 0.30588236]\n   [0.33333334 0.3137255  0.3019608 ]\n   ...\n   [0.34117648 0.33333334 0.28627452]\n   [0.26666668 0.27450982 0.2627451 ]\n   [0.8862746  0.8470589  0.60784316]]\n\n  [[0.3254902  0.3019608  0.3019608 ]\n   [0.32156864 0.29803923 0.29803923]\n   [0.31764707 0.3019608  0.2901961 ]\n   ...\n   [0.30588236 0.28627452 0.2627451 ]\n   [0.34509805 0.34901962 0.29411766]\n   [0.7725491  0.7372549  0.5058824 ]]\n\n  [[0.3254902  0.3019608  0.3019608 ]\n   [0.3254902  0.3019608  0.3019608 ]\n   [0.3254902  0.3019608  0.3019608 ]\n   ...\n   [0.3019608  0.28235295 0.30588236]\n   [0.32156864 0.29411766 0.35686275]\n   [0.6901961  0.69803923 0.27058825]]]\n\n\n [[[0.4901961  0.5764706  0.6666667 ]\n   [0.48235297 0.5686275  0.65882355]\n   [0.4901961  0.5764706  0.6666667 ]\n   ...\n   [0.47450984 0.5764706  0.6431373 ]\n   [0.47058827 0.5686275  0.654902  ]\n   [0.47058827 0.5764706  0.6509804 ]]\n\n  [[0.48627454 0.57254905 0.6627451 ]\n   [0.4901961  0.5764706  0.6666667 ]\n   [0.48235297 0.5686275  0.65882355]\n   ...\n   [0.47450984 0.5803922  0.654902  ]\n   [0.47058827 0.5803922  0.6627451 ]\n   [0.47058827 0.58431375 0.654902  ]]\n\n  [[0.4901961  0.5764706  0.6666667 ]\n   [0.48627454 0.57254905 0.6627451 ]\n   [0.4901961  0.5764706  0.6666667 ]\n   ...\n   [0.4666667  0.5764706  0.65882355]\n   [0.47450984 0.58431375 0.6666667 ]\n   [0.47058827 0.5803922  0.6627451 ]]\n\n  ...\n\n  [[0.16862746 0.09411766 0.02745098]\n   [0.14509805 0.10588236 0.06666667]\n   [0.16470589 0.10196079 0.0509804 ]\n   ...\n   [0.38431376 0.44705886 0.5058824 ]\n   [0.37647063 0.42352945 0.47058827]\n   [0.30980393 0.37254903 0.42352945]]\n\n  [[0.14509805 0.07843138 0.04705883]\n   [0.2627451  0.20392159 0.1764706 ]\n   [0.2392157  0.13333334 0.0509804 ]\n   ...\n   [0.3803922  0.4431373  0.49411768]\n   [0.34509805 0.40000004 0.43529415]\n   [0.37647063 0.4431373  0.47450984]]\n\n  [[0.18431373 0.08627451 0.05882353]\n   [0.18823531 0.09019608 0.07058824]\n   [0.2509804  0.1764706  0.10980393]\n   ...\n   [0.3921569  0.42352945 0.4666667 ]\n   [0.41960788 0.47058827 0.5058824 ]\n   [0.3921569  0.4431373  0.4784314 ]]]] ['Is this man a professional baseball player?' 'Is the dog waiting?'\n 'Is the sky blue?' 'Is there snow on the mountains?'\n 'Is the window open?' 'Is she brushing?' 'Is the man smiling?'\n 'Does his tie pair well with his suit?' 'Does the man look happy?'\n 'Is this photo in color?' 'Is the man wearing a plain tie?'\n 'Judging from the dress, was this taken in a Latin American country?'\n 'Are the men on the sidewalk?' 'Was this photo taken recently?'\n 'Does the guy have a tattoo?'\n \"Is the man's visor providing his face enough protection?\"\n 'Is the man riding on a dirt path?'\n 'Are the walls done in a summery color?' 'Is the curtain patterned?'\n 'Are the windows the same size?'\n 'Is there a shadow of a tree in the foreground?'\n 'Did someone forget his luggage in the snow?' 'Is it daytime?'\n 'Is the person wearing a hat?' 'Is the dog wearing a collar?'\n 'Is it a clear day?' 'Is there a body of water here?' 'Is the light on?'\n 'Is the room messy?' 'Is this a TV screen?'\n 'Is there a laptop in the image?' 'Is the animal a mammal?'\n 'Are there rocks in the picture?' 'Has the sheep recently been shaved?'\n 'Are there three sheep?' 'Is the man having a good time?'\n 'Could this photo be from a zoo?' 'Are the animals eating?'\n 'Is there a zebra?' 'Is the giraffe eating the tree?'\n 'Are both giraffes standing?' 'Are they at a zoo?'\n 'Are some of the trees dead?' 'Are any of the animals eating?'\n 'Is the giraffe in the shade?' 'Are these giraffes living free range?'\n 'Is there a rock near the giraffe?' 'Are they moving?'\n 'Is this man angry?' 'Are there flowers in the vase?'\n 'Are the flowers open?' 'Are all the flowers white?'\n 'Is the man standing on both foot?'\n 'Was this picture likely taken recently?'\n \"Do the gentleman's socks match his shoes and belt?\"\n 'Are the zebras facing the same direction?' 'Is this a horse?'\n \"Are they drinking wine at the child's party?\"\n 'Is the man wearing glasses?' 'Is this a good dessert?'\n 'Are those kites in the air?' 'Is this a hot dog?'\n 'Is there ketchup on the hot dog?' 'Has this hot dog been grilled?'] [0. 0. 1. 1. 0. 1. 1. 1. 1. 1. 0. 0. 0. 1. 0. 1. 0. 1. 1. 0. 1. 0. 1. 0.\n 0. 1. 0. 1. 1. 0. 1. 0. 1. 1. 1. 0. 0. 1. 0. 0. 1. 0. 0. 1. 1. 1. 0. 1.\n 1. 1. 1. 1. 0. 0. 0. 0. 0. 0. 0. 0. 0. 0. 1. 0.]\n(64, 224, 224, 3) (64,) (64,)\n"
     ]
    }
   ],
   "source": [
    "def vqa_data_gen(img_gen, df):\n",
    "    for i, (image, answer) in enumerate(img_gen):\n",
    "        questions = df[i*img_gen.batch_size:(i+1)*(img_gen.batch_size)]['Question'].to_numpy()\n",
    "        print(questions.shape)\n",
    "        yield (image, questions), answer\n",
    "        \n",
    "gen = vqa_data_gen(train_gen, train_df)\n",
    "(a, b), c = next(gen)\n",
    "print(a, b, c)\n",
    "print(a.shape, b.shape, c.shape)"
   ]
  },
  {
   "cell_type": "code",
   "execution_count": 15,
   "metadata": {
    "tags": []
   },
   "outputs": [
    {
     "output_type": "stream",
     "name": "stdout",
     "text": [
      "<class 'numpy.ndarray'> <class 'numpy.ndarray'>\n"
     ]
    }
   ],
   "source": [
    "img, a = next(train_gen)\n",
    "print(type(img), type(a))"
   ]
  },
  {
   "cell_type": "code",
   "execution_count": 23,
   "metadata": {},
   "outputs": [
    {
     "output_type": "stream",
     "name": "stdout",
     "text": [
      "(5,)\n"
     ]
    }
   ],
   "source": [
    "print(train_df[0:5]['Question'].to_numpy().shape)"
   ]
  },
  {
   "cell_type": "code",
   "execution_count": null,
   "metadata": {},
   "outputs": [],
   "source": []
  }
 ],
 "metadata": {
  "kernelspec": {
   "name": "python378jvsc74a57bd08608f3369e1b7fe199f3056150d4f7c6c375e24eac93172fa646af6324355164",
   "display_name": "Python 3.7.8 64-bit ('comp5900porj')"
  },
  "language_info": {
   "codemirror_mode": {
    "name": "ipython",
    "version": 3
   },
   "file_extension": ".py",
   "mimetype": "text/x-python",
   "name": "python",
   "nbconvert_exporter": "python",
   "pygments_lexer": "ipython3",
   "version": "3.7.8-final"
  }
 },
 "nbformat": 4,
 "nbformat_minor": 4
}