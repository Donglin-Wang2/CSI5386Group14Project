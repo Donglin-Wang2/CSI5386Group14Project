{
 "metadata": {
  "language_info": {
   "codemirror_mode": {
    "name": "ipython",
    "version": 3
   },
   "file_extension": ".py",
   "mimetype": "text/x-python",
   "name": "python",
   "nbconvert_exporter": "python",
   "pygments_lexer": "ipython3",
   "version": "3.7.8-final"
  },
  "orig_nbformat": 2,
  "kernelspec": {
   "name": "python378jvsc74a57bd08608f3369e1b7fe199f3056150d4f7c6c375e24eac93172fa646af6324355164",
   "display_name": "Python 3.7.8 64-bit ('comp5900porj')"
  }
 },
 "nbformat": 4,
 "nbformat_minor": 2,
 "cells": [
  {
   "cell_type": "code",
   "execution_count": 1,
   "metadata": {},
   "outputs": [],
   "source": [
    "import pandas as pd\n",
    "import numpy as np\n",
    "import torch\n",
    "import json\n",
    "import pickle\n",
    "from matplotlib import image\n",
    "from tqdm import tqdm"
   ]
  },
  {
   "cell_type": "code",
   "execution_count": null,
   "metadata": {},
   "outputs": [],
   "source": [
    "id_tuples = []\n",
    "with open('./raw_data/v2_mscoco_train2014_annotations.json') as f:\n",
    "    data = json.load(f)\n",
    "    for annotation in data['annotations']:\n",
    "        if annotation['answer_type'] == 'yes/no':\n",
    "            id_tuples.append((annotation['question_id'], annotation['image_id'], annotation['multiple_choice_answer']))        \n",
    "print(len(id_tuples))"
   ]
  },
  {
   "cell_type": "code",
   "execution_count": null,
   "metadata": {},
   "outputs": [],
   "source": [
    "questions = {}\n",
    "with open('./raw_data/v2_OpenEnded_mscoco_train2014_questions.json') as f:\n",
    "    data = json.load(f)\n",
    "    for question in data['questions']:\n",
    "        questions[question['question_id']] = question['question']\n",
    "pickle.dump(questions, open('./processed_data/questions.npy', 'wb'))"
   ]
  },
  {
   "cell_type": "code",
   "execution_count": null,
   "metadata": {
    "tags": []
   },
   "outputs": [],
   "source": [
    "result = []\n",
    "for id_tuple in tqdm(id_tuples):\n",
    "    question = questions[id_tuple[0]]\n",
    "    img = image.imread('./train2014/COCO_train2014_' + str(id_tuple[1]).zfill(12) + '.jpg')\n",
    "    result.append((question, img, id_tuple[-1]))\n",
    "np.save('./processed_data/train_data.npy', result)"
   ]
  },
  {
   "cell_type": "code",
   "execution_count": null,
   "metadata": {},
   "outputs": [],
   "source": [
    "result = np.load('./train_data.npy')\n",
    "sample = np.random.randint(len(result), size=10)\n",
    "for idx in sample:\n",
    "    question, img, answer = result[idx]\n",
    "    image.imgshow(img)\n",
    "    print(question, answer)"
   ]
  },
  {
   "cell_type": "code",
   "execution_count": null,
   "metadata": {},
   "outputs": [],
   "source": []
  }
 ]
}