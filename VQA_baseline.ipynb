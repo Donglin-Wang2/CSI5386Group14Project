{
 "cells": [
  {
   "cell_type": "markdown",
   "metadata": {},
   "source": [
    "## Imports"
   ]
  },
  {
   "cell_type": "code",
   "execution_count": 1,
   "metadata": {},
   "outputs": [
    {
     "name": "stdout",
     "output_type": "stream",
     "text": [
      "GPUs: 1\n"
     ]
    }
   ],
   "source": [
    "import pandas as pd\n",
    "\n",
    "import tensorflow as tf\n",
    "print(f\"GPUs: {len(tf.config.list_physical_devices('GPU'))}\")\n",
    "\n",
    "from tensorflow.keras import Model\n",
    "from tensorflow.keras.applications.vgg16 import VGG16\n",
    "from tensorflow.keras.layers import *\n",
    "from tensorflow.keras.optimizers import Adam\n",
    "from tensorflow.keras.callbacks import EarlyStopping, ReduceLROnPlateau\n",
    "from tensorflow.keras.metrics import Precision, Recall, AUC\n",
    "\n",
    "from DataGen import VQASequence\n",
    "from json_to_df import gen_df"
   ]
  },
  {
   "cell_type": "markdown",
   "metadata": {},
   "source": [
    "## Data"
   ]
  },
  {
   "cell_type": "code",
   "execution_count": 2,
   "metadata": {},
   "outputs": [],
   "source": [
    "train_df = gen_df('train')\n",
    "val_df = gen_df('val')"
   ]
  },
  {
   "cell_type": "markdown",
   "metadata": {},
   "source": [
    "## Hyperparameters"
   ]
  },
  {
   "cell_type": "code",
   "execution_count": 3,
   "metadata": {},
   "outputs": [],
   "source": [
    "img_size = 224 # inception default which seems to also be smaller than all the images\n",
    "img_input_shape = (img_size, img_size, 3)\n",
    "qstn_input_shape = (None, 300)\n",
    "\n",
    "learning_rate = 1e-2\n",
    "batch_size = 512\n",
    "epochs=100"
   ]
  },
  {
   "cell_type": "code",
   "execution_count": null,
   "metadata": {},
   "outputs": [],
   "source": [
    "train_gen = VQASequence(batch_size, train_df, img_size)\n",
    "val_gen = VQASequence(batch_size, val_df, img_size)"
   ]
  },
  {
   "cell_type": "markdown",
   "metadata": {},
   "source": [
    "## Model"
   ]
  },
  {
   "cell_type": "code",
   "execution_count": null,
   "metadata": {
    "scrolled": true
   },
   "outputs": [],
   "source": [
    "# Image \n",
    "vgg = VGG16(\n",
    "    include_top=False,\n",
    "    weights='imagenet',\n",
    "    input_shape=img_input_shape,\n",
    "    pooling='max'\n",
    ")\n",
    "\n",
    "for layer in vgg.layers: layer.trainable = False\n",
    "\n",
    "img_x = vgg.output\n",
    "img_x = Flatten()(img_x)\n",
    "img_x = Dense(1024, activation='relu')(img_x)\n",
    "img_x = BatchNormalization()(img_x)\n",
    "img_output = Dense(1024, activation='relu')(img_x)\n",
    "\n",
    "# Question\n",
    "qstn_input = Input(shape=qstn_input_shape, dtype=\"float32\")\n",
    "qstn_x = LSTM(2048, activation='tanh')(qstn_input)\n",
    "qstn_x = BatchNormalization()(qstn_x)\n",
    "qstn_x = Dense(1024, activation='relu')(qstn_x)\n",
    "qstn_x = BatchNormalization()(qstn_x)\n",
    "qstn_output = Dense(1024, activation='relu')(qstn_x)\n",
    "\n",
    "concat = Concatenate(axis=1)([img_output, qstn_output])\n",
    "x = Dense(1024, activation='relu')(concat)\n",
    "x = BatchNormalization()(x)\n",
    "x = Dense(1024, activation='relu')(x)\n",
    "x = BatchNormalization()(x)\n",
    "x = Dense(1024, activation='relu')(x)\n",
    "x = BatchNormalization()(x)\n",
    "output = Dense(1, activation='sigmoid')(x)\n",
    "\n",
    "model = Model(\n",
    "    inputs=[vgg.input, qstn_input], \n",
    "    outputs=output, \n",
    "    name='BiModal_VQA'\n",
    ")\n",
    "\n",
    "model.summary()"
   ]
  },
  {
   "cell_type": "code",
   "execution_count": null,
   "metadata": {},
   "outputs": [],
   "source": [
    "model.compile(\n",
    "    optimizer=Adam(lr=learning_rate),\n",
    "    loss='binary_crossentropy',\n",
    "    metrics=['accuracy', AUC(), Precision(), Recall()]\n",
    ")\n",
    "\n",
    "rp = ReduceLROnPlateau(patience=2)\n",
    "es = EarlyStopping(patience=4)\n",
    "\n",
    "callbacks= [rp, es]"
   ]
  },
  {
   "cell_type": "code",
   "execution_count": null,
   "metadata": {},
   "outputs": [],
   "source": [
    "%%time\n",
    "\n",
    "hist = model.fit(\n",
    "    x=train_gen,\n",
    "    epochs=epochs,\n",
    "    batch_size=batch_size,\n",
    "    validation_data=val_gen,\n",
    "    callbacks=callbacks\n",
    ")"
   ]
  },
  {
   "cell_type": "code",
   "execution_count": null,
   "metadata": {},
   "outputs": [],
   "source": []
  }
 ],
 "metadata": {
  "kernelspec": {
   "display_name": "Python 3",
   "language": "python",
   "name": "python3"
  },
  "language_info": {
   "codemirror_mode": {
    "name": "ipython",
    "version": 3
   },
   "file_extension": ".py",
   "mimetype": "text/x-python",
   "name": "python",
   "nbconvert_exporter": "python",
   "pygments_lexer": "ipython3",
   "version": "3.8.5"
  }
 },
 "nbformat": 4,
 "nbformat_minor": 4
}
